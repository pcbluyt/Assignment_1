{
 "cells": [
  {
   "cell_type": "markdown",
   "metadata": {},
   "source": [
    "# DATA ASSIGNMENT"
   ]
  },
  {
   "cell_type": "markdown",
   "metadata": {},
   "source": [
    "<img src=\"Ian_Assignment/cover.png\",width=170,height=170 align = 'left'>"
   ]
  },
  {
   "cell_type": "markdown",
   "metadata": {},
   "source": [
    "This assignment was done to explore various methods of modelling a given set of data in order to predict one target variable from a possible set of nine features.  The document was split into the following sections:\n",
    "1.  Importing libraries and overview of data\n",
    "2.  Data wrangeling\n",
    "3.  Machine learning\n",
    "4.  General observations and consclusions\n"
   ]
  },
  {
   "cell_type": "markdown",
   "metadata": {},
   "source": [
    "## 1.  Importing libraries and overview of data"
   ]
  },
  {
   "cell_type": "markdown",
   "metadata": {},
   "source": [
    "### 1.1. Importing libraries"
   ]
  },
  {
   "cell_type": "code",
   "execution_count": 1,
   "metadata": {},
   "outputs": [],
   "source": [
    "####################\n",
    "## Data handeling ##\n",
    "####################\n",
    "import pandas as pd \n",
    "from collections import Counter\n",
    "import warnings\n",
    "\n",
    "#########################\n",
    "## General Mathematics ##\n",
    "#########################\n",
    "import numpy as np \n",
    "from statistics import mode,median,mean\n",
    "\n",
    "###################\n",
    "## Visualisation ##\n",
    "###################\n",
    "import seaborn as sns\n",
    "from matplotlib import pyplot as plt\n",
    "from matplotlib import style\n",
    "\n",
    "##################\n",
    "## ML Libraries ##\n",
    "##################\n",
    "import sklearn      \n",
    "from sklearn.model_selection import train_test_split\n",
    "from sklearn.linear_model import LinearRegression\n",
    "from sklearn.linear_model import LogisticRegression\n",
    "from sklearn.svm import SVC, LinearSVC\n",
    "from sklearn.ensemble import (RandomForestClassifier, AdaBoostClassifier, \n",
    "                              GradientBoostingClassifier, ExtraTreesClassifier, VotingClassifier)\n",
    "from sklearn.neighbors import KNeighborsClassifier\n",
    "from sklearn.naive_bayes import GaussianNB\n",
    "from sklearn.linear_model import Perceptron\n",
    "from sklearn.linear_model import SGDClassifier\n",
    "from sklearn.tree import DecisionTreeClassifier\n",
    "from sklearn.model_selection import GridSearchCV, cross_val_score, StratifiedKFold, learning_curve\n",
    "from sklearn.preprocessing import StandardScaler\n",
    "from sklearn.model_selection import train_test_split\n",
    "from sklearn.metrics import accuracy_score,classification_report, precision_recall_curve, confusion_matrix\n",
    "\n",
    "###########\n",
    "## Misc. ##\n",
    "###########\n",
    "warnings.filterwarnings('ignore')\n",
    "import timeit"
   ]
  },
  {
   "cell_type": "markdown",
   "metadata": {},
   "source": [
    "### 1.2. Importing data"
   ]
  },
  {
   "cell_type": "code",
   "execution_count": 2,
   "metadata": {},
   "outputs": [
    {
     "name": "stdout",
     "output_type": "stream",
     "text": [
      "The total number of rows in training set is:  916 for a training size of  30.0 %\n"
     ]
    },
    {
     "data": {
      "text/html": [
       "<div>\n",
       "<style scoped>\n",
       "    .dataframe tbody tr th:only-of-type {\n",
       "        vertical-align: middle;\n",
       "    }\n",
       "\n",
       "    .dataframe tbody tr th {\n",
       "        vertical-align: top;\n",
       "    }\n",
       "\n",
       "    .dataframe thead th {\n",
       "        text-align: right;\n",
       "    }\n",
       "</style>\n",
       "<table border=\"1\" class=\"dataframe\">\n",
       "  <thead>\n",
       "    <tr style=\"text-align: right;\">\n",
       "      <th></th>\n",
       "      <th>target_var</th>\n",
       "      <th>feature_1</th>\n",
       "      <th>feature_2</th>\n",
       "      <th>feature_3</th>\n",
       "      <th>feature_4</th>\n",
       "      <th>feature_5</th>\n",
       "      <th>feature_6</th>\n",
       "      <th>feature_7</th>\n",
       "      <th>feature_8</th>\n",
       "      <th>feature_9</th>\n",
       "    </tr>\n",
       "  </thead>\n",
       "  <tbody>\n",
       "    <tr>\n",
       "      <th>887</th>\n",
       "      <td>1</td>\n",
       "      <td>8.1125</td>\n",
       "      <td>0</td>\n",
       "      <td>0</td>\n",
       "      <td>NaN</td>\n",
       "      <td>pink</td>\n",
       "      <td>NaN</td>\n",
       "      <td>3</td>\n",
       "      <td>sigma</td>\n",
       "      <td>129.838206</td>\n",
       "    </tr>\n",
       "    <tr>\n",
       "      <th>1034</th>\n",
       "      <td>1</td>\n",
       "      <td>15.2458</td>\n",
       "      <td>1</td>\n",
       "      <td>1</td>\n",
       "      <td>NaN</td>\n",
       "      <td>pink</td>\n",
       "      <td>NaN</td>\n",
       "      <td>3</td>\n",
       "      <td>gamma</td>\n",
       "      <td>52.765767</td>\n",
       "    </tr>\n",
       "    <tr>\n",
       "      <th>350</th>\n",
       "      <td>1</td>\n",
       "      <td>39.0000</td>\n",
       "      <td>2</td>\n",
       "      <td>0</td>\n",
       "      <td>NaN</td>\n",
       "      <td>blue</td>\n",
       "      <td>15.0000</td>\n",
       "      <td>2</td>\n",
       "      <td>sigma</td>\n",
       "      <td>174.564232</td>\n",
       "    </tr>\n",
       "    <tr>\n",
       "      <th>731</th>\n",
       "      <td>0</td>\n",
       "      <td>7.8958</td>\n",
       "      <td>0</td>\n",
       "      <td>0</td>\n",
       "      <td>NaN</td>\n",
       "      <td>pink</td>\n",
       "      <td>19.0000</td>\n",
       "      <td>3</td>\n",
       "      <td>sigma</td>\n",
       "      <td>83.567505</td>\n",
       "    </tr>\n",
       "    <tr>\n",
       "      <th>763</th>\n",
       "      <td>1</td>\n",
       "      <td>20.5750</td>\n",
       "      <td>2</td>\n",
       "      <td>1</td>\n",
       "      <td>NaN</td>\n",
       "      <td>blue</td>\n",
       "      <td>0.1667</td>\n",
       "      <td>3</td>\n",
       "      <td>sigma</td>\n",
       "      <td>181.909796</td>\n",
       "    </tr>\n",
       "    <tr>\n",
       "      <th>758</th>\n",
       "      <td>1</td>\n",
       "      <td>17.4000</td>\n",
       "      <td>0</td>\n",
       "      <td>1</td>\n",
       "      <td>NaN</td>\n",
       "      <td>pink</td>\n",
       "      <td>36.5000</td>\n",
       "      <td>3</td>\n",
       "      <td>sigma</td>\n",
       "      <td>16.069164</td>\n",
       "    </tr>\n",
       "    <tr>\n",
       "      <th>1027</th>\n",
       "      <td>0</td>\n",
       "      <td>8.0500</td>\n",
       "      <td>0</td>\n",
       "      <td>0</td>\n",
       "      <td>NaN</td>\n",
       "      <td>pink</td>\n",
       "      <td>NaN</td>\n",
       "      <td>3</td>\n",
       "      <td>sigma</td>\n",
       "      <td>122.546081</td>\n",
       "    </tr>\n",
       "    <tr>\n",
       "      <th>917</th>\n",
       "      <td>1</td>\n",
       "      <td>13.4167</td>\n",
       "      <td>1</td>\n",
       "      <td>0</td>\n",
       "      <td>NaN</td>\n",
       "      <td>pink</td>\n",
       "      <td>39.0000</td>\n",
       "      <td>3</td>\n",
       "      <td>gamma</td>\n",
       "      <td>98.167310</td>\n",
       "    </tr>\n",
       "    <tr>\n",
       "      <th>402</th>\n",
       "      <td>1</td>\n",
       "      <td>13.8583</td>\n",
       "      <td>0</td>\n",
       "      <td>1</td>\n",
       "      <td>NaN</td>\n",
       "      <td>blue</td>\n",
       "      <td>30.0000</td>\n",
       "      <td>2</td>\n",
       "      <td>gamma</td>\n",
       "      <td>148.575587</td>\n",
       "    </tr>\n",
       "    <tr>\n",
       "      <th>146</th>\n",
       "      <td>1</td>\n",
       "      <td>76.7292</td>\n",
       "      <td>0</td>\n",
       "      <td>1</td>\n",
       "      <td>descrates-44</td>\n",
       "      <td>blue</td>\n",
       "      <td>49.0000</td>\n",
       "      <td>1</td>\n",
       "      <td>gamma</td>\n",
       "      <td>206.546035</td>\n",
       "    </tr>\n",
       "  </tbody>\n",
       "</table>\n",
       "</div>"
      ],
      "text/plain": [
       "      target_var  feature_1  feature_2  feature_3     feature_4 feature_5  \\\n",
       "887            1     8.1125          0          0           NaN      pink   \n",
       "1034           1    15.2458          1          1           NaN      pink   \n",
       "350            1    39.0000          2          0           NaN      blue   \n",
       "731            0     7.8958          0          0           NaN      pink   \n",
       "763            1    20.5750          2          1           NaN      blue   \n",
       "758            1    17.4000          0          1           NaN      pink   \n",
       "1027           0     8.0500          0          0           NaN      pink   \n",
       "917            1    13.4167          1          0           NaN      pink   \n",
       "402            1    13.8583          0          1           NaN      blue   \n",
       "146            1    76.7292          0          1  descrates-44      blue   \n",
       "\n",
       "      feature_6  feature_7 feature_8   feature_9  \n",
       "887         NaN          3     sigma  129.838206  \n",
       "1034        NaN          3     gamma   52.765767  \n",
       "350     15.0000          2     sigma  174.564232  \n",
       "731     19.0000          3     sigma   83.567505  \n",
       "763      0.1667          3     sigma  181.909796  \n",
       "758     36.5000          3     sigma   16.069164  \n",
       "1027        NaN          3     sigma  122.546081  \n",
       "917     39.0000          3     gamma   98.167310  \n",
       "402     30.0000          2     gamma  148.575587  \n",
       "146     49.0000          1     gamma  206.546035  "
      ]
     },
     "execution_count": 2,
     "metadata": {},
     "output_type": "execute_result"
    }
   ],
   "source": [
    "##################################################\n",
    "## Import dataset and split into train and test ##\n",
    "##################################################\n",
    "\n",
    "File_Import_Name ='C:/Users/Abil083.D_ABSA/Desktop/Ian_Assignment/Blu.csv'\n",
    "\n",
    "df = pd.read_csv(File_Import_Name)\n",
    "test_percentage = 0.3\n",
    "train_data, test_data = train_test_split(df, test_size=test_percentage)\n",
    "print(\"The total number of rows in training set is: \",len(train_data), \"for a training size of \",test_percentage*100,\"%\") #916\n",
    "train_data.head(10)"
   ]
  },
  {
   "cell_type": "markdown",
   "metadata": {},
   "source": [
    "### 1.3. Types of data"
   ]
  },
  {
   "cell_type": "code",
   "execution_count": 3,
   "metadata": {},
   "outputs": [
    {
     "data": {
      "text/html": [
       "<div>\n",
       "<style scoped>\n",
       "    .dataframe tbody tr th:only-of-type {\n",
       "        vertical-align: middle;\n",
       "    }\n",
       "\n",
       "    .dataframe tbody tr th {\n",
       "        vertical-align: top;\n",
       "    }\n",
       "\n",
       "    .dataframe thead th {\n",
       "        text-align: right;\n",
       "    }\n",
       "</style>\n",
       "<table border=\"1\" class=\"dataframe\">\n",
       "  <thead>\n",
       "    <tr style=\"text-align: right;\">\n",
       "      <th></th>\n",
       "      <th>target_var</th>\n",
       "      <th>feature_1</th>\n",
       "      <th>feature_2</th>\n",
       "      <th>feature_3</th>\n",
       "      <th>feature_6</th>\n",
       "      <th>feature_7</th>\n",
       "      <th>feature_9</th>\n",
       "    </tr>\n",
       "  </thead>\n",
       "  <tbody>\n",
       "    <tr>\n",
       "      <th>count</th>\n",
       "      <td>916.000000</td>\n",
       "      <td>915.000000</td>\n",
       "      <td>916.000000</td>\n",
       "      <td>916.000000</td>\n",
       "      <td>736.000000</td>\n",
       "      <td>916.000000</td>\n",
       "      <td>916.000000</td>\n",
       "    </tr>\n",
       "    <tr>\n",
       "      <th>mean</th>\n",
       "      <td>0.364629</td>\n",
       "      <td>33.281380</td>\n",
       "      <td>0.378821</td>\n",
       "      <td>0.504367</td>\n",
       "      <td>30.423687</td>\n",
       "      <td>2.280568</td>\n",
       "      <td>102.582783</td>\n",
       "    </tr>\n",
       "    <tr>\n",
       "      <th>std</th>\n",
       "      <td>0.481589</td>\n",
       "      <td>51.462284</td>\n",
       "      <td>0.895373</td>\n",
       "      <td>1.044885</td>\n",
       "      <td>14.395067</td>\n",
       "      <td>0.838222</td>\n",
       "      <td>49.785085</td>\n",
       "    </tr>\n",
       "    <tr>\n",
       "      <th>min</th>\n",
       "      <td>0.000000</td>\n",
       "      <td>0.000000</td>\n",
       "      <td>0.000000</td>\n",
       "      <td>0.000000</td>\n",
       "      <td>0.166700</td>\n",
       "      <td>1.000000</td>\n",
       "      <td>-57.341836</td>\n",
       "    </tr>\n",
       "    <tr>\n",
       "      <th>25%</th>\n",
       "      <td>0.000000</td>\n",
       "      <td>7.895800</td>\n",
       "      <td>0.000000</td>\n",
       "      <td>0.000000</td>\n",
       "      <td>21.000000</td>\n",
       "      <td>1.750000</td>\n",
       "      <td>69.705792</td>\n",
       "    </tr>\n",
       "    <tr>\n",
       "      <th>50%</th>\n",
       "      <td>0.000000</td>\n",
       "      <td>14.458300</td>\n",
       "      <td>0.000000</td>\n",
       "      <td>0.000000</td>\n",
       "      <td>29.000000</td>\n",
       "      <td>3.000000</td>\n",
       "      <td>102.366012</td>\n",
       "    </tr>\n",
       "    <tr>\n",
       "      <th>75%</th>\n",
       "      <td>1.000000</td>\n",
       "      <td>31.137500</td>\n",
       "      <td>0.000000</td>\n",
       "      <td>1.000000</td>\n",
       "      <td>39.000000</td>\n",
       "      <td>3.000000</td>\n",
       "      <td>134.905818</td>\n",
       "    </tr>\n",
       "    <tr>\n",
       "      <th>max</th>\n",
       "      <td>1.000000</td>\n",
       "      <td>512.329200</td>\n",
       "      <td>9.000000</td>\n",
       "      <td>8.000000</td>\n",
       "      <td>74.000000</td>\n",
       "      <td>3.000000</td>\n",
       "      <td>264.692290</td>\n",
       "    </tr>\n",
       "  </tbody>\n",
       "</table>\n",
       "</div>"
      ],
      "text/plain": [
       "       target_var   feature_1   feature_2   feature_3   feature_6   feature_7  \\\n",
       "count  916.000000  915.000000  916.000000  916.000000  736.000000  916.000000   \n",
       "mean     0.364629   33.281380    0.378821    0.504367   30.423687    2.280568   \n",
       "std      0.481589   51.462284    0.895373    1.044885   14.395067    0.838222   \n",
       "min      0.000000    0.000000    0.000000    0.000000    0.166700    1.000000   \n",
       "25%      0.000000    7.895800    0.000000    0.000000   21.000000    1.750000   \n",
       "50%      0.000000   14.458300    0.000000    0.000000   29.000000    3.000000   \n",
       "75%      1.000000   31.137500    0.000000    1.000000   39.000000    3.000000   \n",
       "max      1.000000  512.329200    9.000000    8.000000   74.000000    3.000000   \n",
       "\n",
       "        feature_9  \n",
       "count  916.000000  \n",
       "mean   102.582783  \n",
       "std     49.785085  \n",
       "min    -57.341836  \n",
       "25%     69.705792  \n",
       "50%    102.366012  \n",
       "75%    134.905818  \n",
       "max    264.692290  "
      ]
     },
     "execution_count": 3,
     "metadata": {},
     "output_type": "execute_result"
    }
   ],
   "source": [
    "train_data.describe()"
   ]
  },
  {
   "cell_type": "code",
   "execution_count": 4,
   "metadata": {},
   "outputs": [
    {
     "name": "stdout",
     "output_type": "stream",
     "text": [
      "<class 'pandas.core.frame.DataFrame'>\n",
      "Int64Index: 916 entries, 887 to 364\n",
      "Data columns (total 10 columns):\n",
      "target_var    916 non-null int64\n",
      "feature_1     915 non-null float64\n",
      "feature_2     916 non-null int64\n",
      "feature_3     916 non-null int64\n",
      "feature_4     200 non-null object\n",
      "feature_5     916 non-null object\n",
      "feature_6     736 non-null float64\n",
      "feature_7     916 non-null int64\n",
      "feature_8     915 non-null object\n",
      "feature_9     916 non-null float64\n",
      "dtypes: float64(3), int64(4), object(3)\n",
      "memory usage: 78.7+ KB\n"
     ]
    }
   ],
   "source": [
    "train_data.info()"
   ]
  },
  {
   "cell_type": "markdown",
   "metadata": {},
   "source": [
    "From the above information the following may be observed:\n",
    "    - Feature 1: Integer\n",
    "    - Feature 2: Float\n",
    "    - Feature 3: Integer\n",
    "    - Feature 4: Object\n",
    "    - Feature 5: Object\n",
    "    - Feature 6: Flat\n",
    "    - Feature 7: Integer\n",
    "    - Feature 8: Object \n",
    "    - Feature 9: Float"
   ]
  },
  {
   "cell_type": "markdown",
   "metadata": {},
   "source": [
    "### 1.4. Data overview"
   ]
  },
  {
   "cell_type": "markdown",
   "metadata": {},
   "source": [
    "There are a number of aspects to consider when viewing this particular dataset.  The first one is dealing with missing data."
   ]
  },
  {
   "cell_type": "code",
   "execution_count": 5,
   "metadata": {},
   "outputs": [
    {
     "name": "stdout",
     "output_type": "stream",
     "text": [
      "target_var     0.000000\n",
      "feature_1      0.109170\n",
      "feature_2      0.000000\n",
      "feature_3      0.000000\n",
      "feature_4     78.165939\n",
      "feature_5      0.000000\n",
      "feature_6     19.650655\n",
      "feature_7      0.000000\n",
      "feature_8      0.109170\n",
      "feature_9      0.000000\n",
      "dtype: float64\n"
     ]
    }
   ],
   "source": [
    "Number_of_Rows = len(train_data)\n",
    "Total_Missing_Values = (Number_of_Rows - train_data.apply(lambda x: x.count(), axis=0))/(Number_of_Rows)*100\n",
    "print(Total_Missing_Values)"
   ]
  },
  {
   "cell_type": "markdown",
   "metadata": {},
   "source": [
    "From the above data the following may be concluded: Five of the 9 features have no missing values, \n",
    "two features have less than 1% of their data missing, and 2 features have more than 20% of their\n",
    "values missing.  When dealing with the missing data, five different approaches will be considered,\n",
    "as suggested by Kishan Maladkar in an \"Analytics India Magaizine\" article from February 2018,\n",
    "namely: deleting the entire row which has missing information; replace the missing data with the\n",
    "mean/mode/median; assigning a unique category; predicting the missing values; or using algorithms\n",
    "which support the missing values.  The full overview and application of these methods will be given\n",
    "in the next section."
   ]
  },
  {
   "cell_type": "code",
   "execution_count": 6,
   "metadata": {},
   "outputs": [
    {
     "data": {
      "text/plain": [
       "{0: 181, 1: 572, 2: 163}"
      ]
     },
     "execution_count": 6,
     "metadata": {},
     "output_type": "execute_result"
    }
   ],
   "source": [
    "df_missing_col = 10-train_data.apply(lambda x: x.count(), axis=1)\n",
    "dict(Counter(df_missing_col))"
   ]
  },
  {
   "cell_type": "markdown",
   "metadata": {},
   "source": [
    "Another interesting aspect to note is that 270 rows (of the 1310 rows) have no data missing, whereas 798 rows have one value missing and 241 have two values missing.  No row has more than 2 values missing.  798 rows and 270 rows are significant in the context of the total sample, and caution will be applied when considering whether or not to simply ommit the data.    "
   ]
  },
  {
   "cell_type": "code",
   "execution_count": 7,
   "metadata": {},
   "outputs": [
    {
     "data": {
      "text/plain": [
       "<matplotlib.axes._subplots.AxesSubplot at 0x1733d3bc898>"
      ]
     },
     "execution_count": 7,
     "metadata": {},
     "output_type": "execute_result"
    },
    {
     "data": {
      "image/png": "[encoded data removed]",
      "text/plain": [
       "<matplotlib.figure.Figure at 0x1733cec2358>"
      ]
     },
     "metadata": {},
     "output_type": "display_data"
    }
   ],
   "source": [
    "f,ax = plt.subplots(4,3,figsize=(15,15))\n",
    "sns.countplot('feature_2',hue = 'target_var',data=train_data,ax=ax[0,0],color = 'b')\n",
    "sns.countplot('feature_3',hue = 'target_var',data=train_data,ax=ax[0,1],color = 'b')\n",
    "sns.countplot('feature_5',hue = 'target_var',data=train_data,ax=ax[0,2],color = 'b')\n",
    "sns.countplot('feature_7',hue = 'target_var',data=train_data,ax=ax[1,0],color = 'b')\n",
    "sns.countplot('feature_8',hue = 'target_var',data=train_data,ax=ax[1,1],color = 'b')\n",
    "sns.boxplot(x='target_var',y='feature_1',data=train_data,ax=ax[1,2],color = 'b')\n",
    "sns.distplot(train_data['feature_1'].dropna(),ax=ax[2,0],color = 'b')\n",
    "sns.boxplot(x='target_var',y='feature_9',data=train_data,ax=ax[2,1],color = 'b')\n",
    "sns.distplot(train_data['feature_9'].dropna(),ax=ax[2,2],color = 'b')\n",
    "\n",
    "sns.boxplot(x='target_var',y='feature_6',data=train_data,ax=ax[3,0],color = 'b')\n",
    "sns.distplot(train_data['feature_6'].dropna(),ax=ax[3,1],color = 'b')\n",
    "sns.countplot('target_var',data=train_data,ax=ax[3,2],color='b')"
   ]
  },
  {
   "cell_type": "code",
   "execution_count": 8,
   "metadata": {},
   "outputs": [
    {
     "data": {
      "text/plain": [
       "<matplotlib.axes._subplots.AxesSubplot at 0x1733d48ce80>"
      ]
     },
     "execution_count": 8,
     "metadata": {},
     "output_type": "execute_result"
    },
    {
     "data": {
      "image/png": "[encoded data removed]",
      "text/plain": [
       "<matplotlib.figure.Figure at 0x1733d3ca198>"
      ]
     },
     "metadata": {},
     "output_type": "display_data"
    }
   ],
   "source": [
    "# Compute the correlation matrix\n",
    "corr = train_data.corr()\n",
    "\n",
    "# Set up the matplotlib figure\n",
    "f, ax = plt.subplots(figsize=(11, 9))\n",
    "\n",
    "# Generate a custom diverging colormap\n",
    "cmap = sns.diverging_palette(240, 240, as_cmap=True)\n",
    "\n",
    "# Draw the heatmap with the mask and correct aspect ratio\n",
    "drop_elements = ['feature_4','feature_5','feature_8']\n",
    "\n",
    "df_ammend = train_data.drop(drop_elements, axis = 1)\n",
    "sns.heatmap(df_ammend.astype(float).corr(),linewidths=0.1,vmax=1.0, square=True, cmap=cmap,annot=True, linecolor='white')"
   ]
  },
  {
   "cell_type": "markdown",
   "metadata": {},
   "source": [
    "From the above graphs and heatmap a number of observations may be made:\n",
    "1. feature_1 has a number of outliers.  This is something which won't be addressed in this investigation, but which may be \n",
    "   addressed in future in order to attempt to improve the accuracy.\n",
    "2. The target_var is averagely correlated to feature_7 and feature_1.  It is important to note that feauture_1 and feature_7 are    quite strongly correlated.\n",
    "3. A number of features have been omitted on the heatmap and have missing values.  These values will need to be estimated or \n",
    "   omitted.  Certain features' values may also be categorised.\n",
    "4. feature_1 is heavily skewed.\n",
    "5. The ratio of 0 to 1 for the target_var reduces as feature_3 increases.\n",
    "6. feature_9 is normally distributed around 100.\n",
    "7. For feature 7, a large portion of values with 3 resulted in a predominantly 0 outcome for the target_var."
   ]
  },
  {
   "cell_type": "markdown",
   "metadata": {},
   "source": [
    "## 2. Data wrangeling"
   ]
  },
  {
   "cell_type": "markdown",
   "metadata": {},
   "source": [
    "For the data wrangeling portion of this assignment it was decided to first address the features with missing values.  Once the missing values had been addressed (through either of the 5 below mentioned methods), attempts to categorise the data were explored."
   ]
  },
  {
   "cell_type": "markdown",
   "metadata": {},
   "source": [
    "### 2.1. 'Feature_1' missing data"
   ]
  },
  {
   "cell_type": "markdown",
   "metadata": {},
   "source": [
    "Method 1: Replace mssing variable with mode/median/mean"
   ]
  },
  {
   "cell_type": "code",
   "execution_count": 9,
   "metadata": {},
   "outputs": [
    {
     "name": "stdout",
     "output_type": "stream",
     "text": [
      "Mean:  33.281379890710355   Median:  10.5  \n"
     ]
    }
   ],
   "source": [
    "#df_Mode = mode(train_data.feature_1)\n",
    "df_Mean =train_data.feature_1[~np.isnan(train_data.feature_1)].mean()\n",
    "df_Median = median(train_data.feature_1)\n",
    "print(\"Mean: \",df_Mean,\" \",\"Median: \",df_Median,\" \")\n",
    "\n",
    "df_Mean_Change = train_data['feature_1'].replace(np.NaN, train_data['feature_1'].mean())  #Initially I will use the mean\n",
    "\n",
    "df_Median_Change = df['feature_1'].replace(np.NaN, df_Median) #I have saved median and mode as an alternative to improve model\n",
    "\n",
    "#df_Mode_Change = train_data['feature_1'].replace(np.NaN, df_Mode)"
   ]
  },
  {
   "cell_type": "markdown",
   "metadata": {},
   "source": [
    "Method 2: Delete the row with the missing value"
   ]
  },
  {
   "cell_type": "code",
   "execution_count": 10,
   "metadata": {},
   "outputs": [],
   "source": [
    "#NaN_Index = (np.argwhere(np.isnan(train_data['feature_1'])))\n",
    "#df_Drop_Row = train_data.drop(train_data.index[NaN_Index][0])\n",
    "#df_Drop_Row.shape  #If the mean, median, or mode does not give a better accuracy a dataframe with the deleted row will be used."
   ]
  },
  {
   "cell_type": "markdown",
   "metadata": {},
   "source": [
    "Mehtod 3,4, and 5: Predict the values or assign categories"
   ]
  },
  {
   "cell_type": "markdown",
   "metadata": {},
   "source": [
    "In this particular case Method 3 will not be considered.  The reason for this is that we are dealing with integers, where either of the two aforementioned methods, or Method 4 should provide greater accuracy.  Due to the complexity of Method 5, it will be assumed that the prediction will provide little to a negligible amount of value.  Method 3 is explored below.  In this method linear regression will be used to predict the missing values."
   ]
  },
  {
   "cell_type": "markdown",
   "metadata": {
    "scrolled": true
   },
   "source": [
    "### 2.2. 'Feature_4' missing data"
   ]
  },
  {
   "cell_type": "markdown",
   "metadata": {},
   "source": [
    "This is a particularly interesting feature since it contains both text and numerical values.  Also 77% of its values are blank.  The big questions therefore are: Should the entire feature be ommitted?  If not ommitted, how can the issue of blank values be addressed?  It was decided to split the text from the integers in this feature and create a feature_4A, which contains the text portion, and a feature_4B which contains the integers from the orginal feature_4.\n",
    "\n"
   ]
  },
  {
   "cell_type": "code",
   "execution_count": 11,
   "metadata": {},
   "outputs": [
    {
     "data": {
      "text/plain": [
       "<matplotlib.axes._subplots.AxesSubplot at 0x1733d6e51d0>"
      ]
     },
     "execution_count": 11,
     "metadata": {},
     "output_type": "execute_result"
    },
    {
     "data": {
      "image/png": "[encoded data removed]",
      "text/plain": [
       "<matplotlib.figure.Figure at 0x1733d6b6f28>"
      ]
     },
     "metadata": {},
     "output_type": "display_data"
    }
   ],
   "source": [
    "df_feature_4_Pre = train_data.dropna()\n",
    "df_feature_4_Pre.reset_index(drop=True,inplace=True)\n",
    "df_feature_4_Pre.head(30)\n",
    "df_feature_4 = pd.DataFrame(df_feature_4_Pre.feature_4.str.split('-',1).tolist(),columns = ['feature_4A','feature_4B'])\n",
    "df_feature_4_combine = pd.concat([df_feature_4_Pre, df_feature_4], axis=1)\n",
    "df_feature_4_combine\n",
    "df_feature_4_whole = df_feature_4_combine.convert_objects(convert_numeric=True)\n",
    "\n",
    "df_feature_4_whole.loc[ (df_feature_4_whole['feature_4B']>=1) & (df_feature_4_whole['feature_4B']<=40),'feature_4B']= 1\n",
    "df_feature_4_whole.loc[ (df_feature_4_whole['feature_4B']>40) & (df_feature_4_whole['feature_4B']<=80),'feature_4B']= 2\n",
    "df_feature_4_whole.loc[ (df_feature_4_whole['feature_4B']>80) & (df_feature_4_whole['feature_4B']<=120),'feature_4B']= 3\n",
    "df_feature_4_whole.loc[ (df_feature_4_whole['feature_4B']>120) & (df_feature_4_whole['feature_4B']<=180),'feature_4B']= 4\n",
    "df_feature_4B = df_feature_4_whole.feature_4B.fillna(0)\n",
    "df_feature_4_whole.feature_4B = df_feature_4B\n",
    "\n",
    "f,ax = plt.subplots(1,2,figsize=(15,5))\n",
    "sns.countplot('feature_4A',hue = 'target_var',data=df_feature_4_whole,ax=ax[0],color = 'b')\n",
    "sns.countplot('feature_4B',hue = 'target_var',data=df_feature_4_whole,ax=ax[1],color = 'b')\n",
    "\n",
    "\n"
   ]
  },
  {
   "cell_type": "code",
   "execution_count": 12,
   "metadata": {
    "scrolled": true
   },
   "outputs": [
    {
     "data": {
      "text/html": [
       "<div>\n",
       "<style scoped>\n",
       "    .dataframe tbody tr th:only-of-type {\n",
       "        vertical-align: middle;\n",
       "    }\n",
       "\n",
       "    .dataframe tbody tr th {\n",
       "        vertical-align: top;\n",
       "    }\n",
       "\n",
       "    .dataframe thead th {\n",
       "        text-align: right;\n",
       "    }\n",
       "</style>\n",
       "<table border=\"1\" class=\"dataframe\">\n",
       "  <thead>\n",
       "    <tr style=\"text-align: right;\">\n",
       "      <th></th>\n",
       "      <th>target_var</th>\n",
       "      <th>feature_1</th>\n",
       "      <th>feature_2</th>\n",
       "      <th>feature_3</th>\n",
       "      <th>feature_4</th>\n",
       "      <th>feature_5</th>\n",
       "      <th>feature_6</th>\n",
       "      <th>feature_7</th>\n",
       "      <th>feature_8</th>\n",
       "      <th>feature_9</th>\n",
       "      <th>feature_4A</th>\n",
       "      <th>feature_4B</th>\n",
       "    </tr>\n",
       "  </thead>\n",
       "  <tbody>\n",
       "    <tr>\n",
       "      <th>0</th>\n",
       "      <td>1</td>\n",
       "      <td>76.7292</td>\n",
       "      <td>0</td>\n",
       "      <td>1</td>\n",
       "      <td>descrates-44</td>\n",
       "      <td>blue</td>\n",
       "      <td>49.0</td>\n",
       "      <td>1</td>\n",
       "      <td>gamma</td>\n",
       "      <td>206.546035</td>\n",
       "      <td>descrates</td>\n",
       "      <td>2.0</td>\n",
       "    </tr>\n",
       "    <tr>\n",
       "      <th>1</th>\n",
       "      <td>1</td>\n",
       "      <td>13.0000</td>\n",
       "      <td>0</td>\n",
       "      <td>0</td>\n",
       "      <td>descrates-67</td>\n",
       "      <td>pink</td>\n",
       "      <td>34.0</td>\n",
       "      <td>2</td>\n",
       "      <td>sigma</td>\n",
       "      <td>158.107495</td>\n",
       "      <td>descrates</td>\n",
       "      <td>2.0</td>\n",
       "    </tr>\n",
       "    <tr>\n",
       "      <th>2</th>\n",
       "      <td>0</td>\n",
       "      <td>26.5500</td>\n",
       "      <td>0</td>\n",
       "      <td>0</td>\n",
       "      <td>euler-49</td>\n",
       "      <td>pink</td>\n",
       "      <td>65.0</td>\n",
       "      <td>1</td>\n",
       "      <td>sigma</td>\n",
       "      <td>62.299786</td>\n",
       "      <td>euler</td>\n",
       "      <td>2.0</td>\n",
       "    </tr>\n",
       "    <tr>\n",
       "      <th>3</th>\n",
       "      <td>1</td>\n",
       "      <td>55.4417</td>\n",
       "      <td>0</td>\n",
       "      <td>1</td>\n",
       "      <td>cantor-127</td>\n",
       "      <td>blue</td>\n",
       "      <td>43.0</td>\n",
       "      <td>1</td>\n",
       "      <td>gamma</td>\n",
       "      <td>144.870167</td>\n",
       "      <td>cantor</td>\n",
       "      <td>4.0</td>\n",
       "    </tr>\n",
       "    <tr>\n",
       "      <th>4</th>\n",
       "      <td>1</td>\n",
       "      <td>211.5000</td>\n",
       "      <td>1</td>\n",
       "      <td>1</td>\n",
       "      <td>cantor-91</td>\n",
       "      <td>blue</td>\n",
       "      <td>50.0</td>\n",
       "      <td>1</td>\n",
       "      <td>gamma</td>\n",
       "      <td>77.046700</td>\n",
       "      <td>cantor</td>\n",
       "      <td>3.0</td>\n",
       "    </tr>\n",
       "    <tr>\n",
       "      <th>5</th>\n",
       "      <td>1</td>\n",
       "      <td>10.5000</td>\n",
       "      <td>0</td>\n",
       "      <td>0</td>\n",
       "      <td>fermat-44</td>\n",
       "      <td>blue</td>\n",
       "      <td>22.0</td>\n",
       "      <td>2</td>\n",
       "      <td>sigma</td>\n",
       "      <td>139.725579</td>\n",
       "      <td>fermat</td>\n",
       "      <td>2.0</td>\n",
       "    </tr>\n",
       "    <tr>\n",
       "      <th>6</th>\n",
       "      <td>0</td>\n",
       "      <td>71.0000</td>\n",
       "      <td>1</td>\n",
       "      <td>1</td>\n",
       "      <td>bigollo-33</td>\n",
       "      <td>pink</td>\n",
       "      <td>70.0</td>\n",
       "      <td>1</td>\n",
       "      <td>sigma</td>\n",
       "      <td>62.301860</td>\n",
       "      <td>bigollo</td>\n",
       "      <td>1.0</td>\n",
       "    </tr>\n",
       "    <tr>\n",
       "      <th>7</th>\n",
       "      <td>0</td>\n",
       "      <td>38.5000</td>\n",
       "      <td>0</td>\n",
       "      <td>0</td>\n",
       "      <td>euler-74</td>\n",
       "      <td>pink</td>\n",
       "      <td>47.0</td>\n",
       "      <td>1</td>\n",
       "      <td>sigma</td>\n",
       "      <td>165.150500</td>\n",
       "      <td>euler</td>\n",
       "      <td>2.0</td>\n",
       "    </tr>\n",
       "    <tr>\n",
       "      <th>8</th>\n",
       "      <td>0</td>\n",
       "      <td>79.2000</td>\n",
       "      <td>0</td>\n",
       "      <td>0</td>\n",
       "      <td>bigollo-97</td>\n",
       "      <td>pink</td>\n",
       "      <td>24.0</td>\n",
       "      <td>1</td>\n",
       "      <td>gamma</td>\n",
       "      <td>115.303572</td>\n",
       "      <td>bigollo</td>\n",
       "      <td>3.0</td>\n",
       "    </tr>\n",
       "    <tr>\n",
       "      <th>9</th>\n",
       "      <td>1</td>\n",
       "      <td>136.7792</td>\n",
       "      <td>0</td>\n",
       "      <td>1</td>\n",
       "      <td>cantor-100</td>\n",
       "      <td>blue</td>\n",
       "      <td>26.0</td>\n",
       "      <td>1</td>\n",
       "      <td>gamma</td>\n",
       "      <td>183.130062</td>\n",
       "      <td>cantor</td>\n",
       "      <td>3.0</td>\n",
       "    </tr>\n",
       "  </tbody>\n",
       "</table>\n",
       "</div>"
      ],
      "text/plain": [
       "   target_var  feature_1  feature_2  feature_3     feature_4 feature_5  \\\n",
       "0           1    76.7292          0          1  descrates-44      blue   \n",
       "1           1    13.0000          0          0  descrates-67      pink   \n",
       "2           0    26.5500          0          0      euler-49      pink   \n",
       "3           1    55.4417          0          1    cantor-127      blue   \n",
       "4           1   211.5000          1          1     cantor-91      blue   \n",
       "5           1    10.5000          0          0     fermat-44      blue   \n",
       "6           0    71.0000          1          1    bigollo-33      pink   \n",
       "7           0    38.5000          0          0      euler-74      pink   \n",
       "8           0    79.2000          0          0    bigollo-97      pink   \n",
       "9           1   136.7792          0          1    cantor-100      blue   \n",
       "\n",
       "   feature_6  feature_7 feature_8   feature_9 feature_4A  feature_4B  \n",
       "0       49.0          1     gamma  206.546035  descrates         2.0  \n",
       "1       34.0          2     sigma  158.107495  descrates         2.0  \n",
       "2       65.0          1     sigma   62.299786      euler         2.0  \n",
       "3       43.0          1     gamma  144.870167     cantor         4.0  \n",
       "4       50.0          1     gamma   77.046700     cantor         3.0  \n",
       "5       22.0          2     sigma  139.725579     fermat         2.0  \n",
       "6       70.0          1     sigma   62.301860    bigollo         1.0  \n",
       "7       47.0          1     sigma  165.150500      euler         2.0  \n",
       "8       24.0          1     gamma  115.303572    bigollo         3.0  \n",
       "9       26.0          1     gamma  183.130062     cantor         3.0  "
      ]
     },
     "execution_count": 12,
     "metadata": {},
     "output_type": "execute_result"
    }
   ],
   "source": [
    "df_feature_4_whole.head(10)"
   ]
  },
  {
   "cell_type": "markdown",
   "metadata": {},
   "source": [
    "In the above two graphs the first represent feature_4B which is the text portion of the original feature_4. Based, simply by looking at the graph it appears as though the variation in feature_4A (from allen to germain) has very little effect on the binary outcome.  Similarly with feature_4B.  feature_4B was categorised into five potentional values.  This was done by splitting the distribution of numbers into roughly five bins.  Shown below are the calculation which were done to determine whether or not the individual distributions have a strong direct impact on the binary outcome of the target variable. "
   ]
  },
  {
   "cell_type": "code",
   "execution_count": 13,
   "metadata": {},
   "outputs": [
    {
     "name": "stdout",
     "output_type": "stream",
     "text": [
      "1 :  61.111111111111114 %\n",
      "2 :  69.86301369863014 %\n",
      "3 :  70.0 %\n",
      "4 :  55.55555555555556 %\n"
     ]
    }
   ],
   "source": [
    "for i in range(1,5):\n",
    "    Total = (df_feature_4_whole[(df_feature_4_whole.feature_4B == i)].sum()[11])/i\n",
    "    Section = df_feature_4_whole[(df_feature_4_whole.feature_4B == i) & (df_feature_4_whole.target_var == 1)].sum()[0]\n",
    "    Relation = (Section / Total)*100\n",
    "    print(i,\": \",Relation,\"%\")"
   ]
  },
  {
   "cell_type": "code",
   "execution_count": 14,
   "metadata": {},
   "outputs": [
    {
     "name": "stdout",
     "output_type": "stream",
     "text": [
      "allen :  50.0 %\n",
      "bigollo :  71.42857142857143 %\n",
      "cantor :  61.66666666666667 %\n",
      "descrates :  64.0 %\n",
      "euler :  65.38461538461539 %\n",
      "fermat :  83.33333333333334 %\n",
      "germain :  100.0 %\n",
      "turing :  0.0 %\n"
     ]
    }
   ],
   "source": [
    "Word_cat = [\"allen\",\"bigollo\", \"cantor\", \"descrates\",\"euler\",\"fermat\",\"germain\",\"turing\"]\n",
    "for x in Word_cat:\n",
    "    Total = df_feature_4_whole.feature_4A.str.count(x).sum()\n",
    "    Section = df_feature_4_whole[(df_feature_4_whole.feature_4A ==x) & (df_feature_4_whole.target_var == 1)].sum()[0]\n",
    "    Relation = (Section / Total)*100\n",
    "    print(x,\": \", Relation,\"%\")"
   ]
  },
  {
   "cell_type": "markdown",
   "metadata": {},
   "source": [
    "From the above graphs and calculations it is clear that there is not strong correlation between the individual values of feature_4A and feature_4B.  It was therefore decided to simply indicate whether or not feature_4 had a value or not, and then determine whether this had an effect on the binary outcome.  This was done below."
   ]
  },
  {
   "cell_type": "code",
   "execution_count": 15,
   "metadata": {},
   "outputs": [
    {
     "data": {
      "text/plain": [
       "<matplotlib.axes._subplots.AxesSubplot at 0x1733db91fd0>"
      ]
     },
     "execution_count": 15,
     "metadata": {},
     "output_type": "execute_result"
    },
    {
     "data": {
      "image/png": "[encoded data removed]",
      "text/plain": [
       "<matplotlib.figure.Figure at 0x1733d511320>"
      ]
     },
     "metadata": {},
     "output_type": "display_data"
    }
   ],
   "source": [
    "train_data.feature_1 = df_Mean_Change\n",
    "train_data.feature_4 = train_data.feature_4.fillna(0)\n",
    "train_data = train_data.reset_index()\n",
    "#train_data.loc[(train_data.feature_4!=0)]=1\n",
    "for x in range(0,len(train_data)):\n",
    " if train_data.feature_4[x]!=0:\n",
    "    train_data.feature_4[x] = 1\n",
    "    \n",
    "sns.countplot('feature_4',hue = 'target_var',data=train_data,color = 'b')\n"
   ]
  },
  {
   "cell_type": "markdown",
   "metadata": {},
   "source": [
    "From the above figure it is clear that there is a significant relationship between what the binary outcome is, and whether or not feature_4 has a value.  "
   ]
  },
  {
   "cell_type": "markdown",
   "metadata": {},
   "source": [
    "### 2.3 'Feature_6' missing data"
   ]
  },
  {
   "cell_type": "markdown",
   "metadata": {},
   "source": [
    "For feature_6 the rows with missing values were deleted.  This was done, as opposed to selection the median/mean/mode due to the large number of missing values.  If median/mean/mode had been selected it was assumed, and will be shown, that it would have greatly biased the data."
   ]
  },
  {
   "cell_type": "code",
   "execution_count": 16,
   "metadata": {},
   "outputs": [
    {
     "name": "stdout",
     "output_type": "stream",
     "text": [
      "90.0\n",
      "155.0\n",
      "168.0\n",
      "156.0\n",
      "167.0\n"
     ]
    },
    {
     "data": {
      "text/plain": [
       "<matplotlib.axes._subplots.AxesSubplot at 0x1733d805e80>"
      ]
     },
     "execution_count": 16,
     "metadata": {},
     "output_type": "execute_result"
    },
    {
     "data": {
      "image/png": "[encoded data removed]",
      "text/plain": [
       "<matplotlib.figure.Figure at 0x1733d7f8898>"
      ]
     },
     "metadata": {},
     "output_type": "display_data"
    }
   ],
   "source": [
    "NaN_Index = np.isnan(train_data['feature_6'])\n",
    "train_data =  train_data.drop(train_data.index[NaN_Index])\n",
    "train_data.reset_index()\n",
    "A = train_data.feature_6\n",
    "A.loc[(A>0.1) & (A<=16)] = 1\n",
    "A.loc[(A>16) & (A<=23)] = 2\n",
    "A.loc[(A>23) & (A<=30)] = 3\n",
    "A.loc[(A>30) & (A<=40)] = 4\n",
    "A.loc[(A>40)] = 5\n",
    "\n",
    "train_data.feature_6 = A\n",
    "\n",
    "for i in range(1,6):\n",
    "    print(train_data[(train_data.feature_6 ==i)].sum()[7]/i)\n",
    "\n",
    "sns.countplot('feature_6',hue = 'target_var',data=train_data,color = 'b')"
   ]
  },
  {
   "cell_type": "markdown",
   "metadata": {},
   "source": [
    "### 2.4. 'Feature 1' categorising"
   ]
  },
  {
   "cell_type": "markdown",
   "metadata": {},
   "source": [
    "As previously observed the data for feature 1 is quite skewed.  As a result it was decided to split the values into three numerica categories 1 when values are betwee 0-9, 2 when values are between 9-25, and 3 when values are greater than 25."
   ]
  },
  {
   "cell_type": "code",
   "execution_count": 17,
   "metadata": {},
   "outputs": [
    {
     "name": "stdout",
     "output_type": "stream",
     "text": [
      "212.0\n",
      "218.0\n",
      "306.0\n"
     ]
    },
    {
     "data": {
      "image/png": "[encoded data removed]",
      "text/plain": [
       "<matplotlib.figure.Figure at 0x1733d9b6828>"
      ]
     },
     "metadata": {},
     "output_type": "display_data"
    }
   ],
   "source": [
    "sns.distplot(train_data.feature_1,hist=True,bins=20)\n",
    "train_data\n",
    "\n",
    "B = train_data.feature_1\n",
    "\n",
    "B.loc[(B>=0) & (B<=9)] = 1\n",
    "B.loc[(B>9) & (B<=25)] = 2\n",
    "B.loc[(B>25)] = 3\n",
    "train_data.feature_1 = B\n",
    "\n",
    "for i in range(1,4):\n",
    "    Section = train_data[(train_data.feature_1 ==i)].sum()[2]/i\n",
    "    print(Section)\n"
   ]
  },
  {
   "cell_type": "markdown",
   "metadata": {},
   "source": [
    "### 2.5. 'Feature 5' categorising"
   ]
  },
  {
   "cell_type": "markdown",
   "metadata": {},
   "source": [
    "For feature_5, pink and blue were simply given numeric values of 1 and 2.  "
   ]
  },
  {
   "cell_type": "code",
   "execution_count": 18,
   "metadata": {},
   "outputs": [
    {
     "data": {
      "text/plain": [
       "(736, 11)"
      ]
     },
     "execution_count": 18,
     "metadata": {},
     "output_type": "execute_result"
    }
   ],
   "source": [
    "NaN_Index = np.isnan(train_data['feature_1'])\n",
    "train_data =  train_data.drop(train_data.index[NaN_Index])\n",
    "train_data.reset_index()\n",
    "C = train_data.feature_5\n",
    "C.loc[(C==\"pink\")] = 0\n",
    "C.loc[(C==\"blue\")] = 1\n",
    "\n",
    "\n",
    "train_data.feature_5 = C\n",
    "train_data.shape"
   ]
  },
  {
   "cell_type": "markdown",
   "metadata": {},
   "source": [
    "### 2.6. 'Feature 8' categorising"
   ]
  },
  {
   "cell_type": "code",
   "execution_count": 19,
   "metadata": {},
   "outputs": [],
   "source": [
    "D = train_data.feature_8\n",
    "D.loc[(D==\"sigma\")] = 1\n",
    "D.loc[(D==\"gamma\")] = 2\n",
    "D.loc[(D==\"qoph\")] = 3\n",
    "\n",
    "train_data.feature_8 = D"
   ]
  },
  {
   "cell_type": "markdown",
   "metadata": {},
   "source": [
    "### 2.7. 'Feature 2 and 3' categorising"
   ]
  },
  {
   "cell_type": "code",
   "execution_count": 20,
   "metadata": {
    "scrolled": true
   },
   "outputs": [
    {
     "data": {
      "text/plain": [
       "<matplotlib.axes._subplots.AxesSubplot at 0x1733d6944e0>"
      ]
     },
     "execution_count": 20,
     "metadata": {},
     "output_type": "execute_result"
    },
    {
     "data": {
      "image/png": "[encoded data removed]",
      "text/plain": [
       "<matplotlib.figure.Figure at 0x1733d303550>"
      ]
     },
     "metadata": {},
     "output_type": "display_data"
    }
   ],
   "source": [
    "train_data = train_data.reset_index()\n",
    "train_data = train_data.drop('index',axis=1)\n",
    "train_data = train_data.drop('level_0',axis=1)\n",
    "\n",
    "train_data = train_data.reset_index()\n",
    "train_data = train_data.drop('index',axis=1)\n",
    "train_data.insert(9,'feature_2_3',0)\n",
    "train_data.insert(10,'feature_2_3B',0)\n",
    "\n",
    "\n",
    "for x in range(0,len(train_data)):\n",
    " if [(train_data.feature_2[x]!=0) & (train_data.feature_3!= 0)]:   \n",
    "    train_data.feature_2_3[x] = train_data['feature_2'][x] + train_data['feature_3'][x]\n",
    "    \n",
    "for x in range(0,len(train_data)):\n",
    " if (train_data.feature_2_3[x]!=0):\n",
    "    train_data.feature_2_3B[x] = 1\n",
    "    \n",
    "# Compute the correlation matrix\n",
    "corr = train_data.corr()\n",
    "\n",
    "# Set up the matplotlib figure\n",
    "f, ax = plt.subplots(figsize=(11, 9))\n",
    "\n",
    "# Generate a custom diverging colormap\n",
    "cmap = sns.diverging_palette(240, 240, as_cmap=True)\n",
    "\n",
    "df_ammend = train_data\n",
    "sns.heatmap(df_ammend.astype(float).corr(),linewidths=0.1,vmax=1.0, square=True, cmap=cmap,annot=True, linecolor='white')"
   ]
  },
  {
   "cell_type": "code",
   "execution_count": 22,
   "metadata": {},
   "outputs": [
    {
     "data": {
      "text/plain": [
       "80.54"
      ]
     },
     "execution_count": 22,
     "metadata": {},
     "output_type": "execute_result"
    }
   ],
   "source": [
    "train_data = train_data.dropna()\n",
    "train_data = train_data.reset_index()\n",
    "X_train = train_data.drop(\"target_var\", axis=1)\n",
    "Y_train = train_data[\"target_var\"]\n",
    "\n",
    "from sklearn.cross_validation import train_test_split\n",
    "X_train, x_test, Y_train, y_test = train_test_split(X_train, Y_train, test_size=0.3, random_state=110)\n",
    "\n",
    "logreg = LogisticRegression()\n",
    "logreg.fit(X_train, Y_train)\n",
    "Y_pred1 = logreg.predict(x_test)\n",
    "acc_log = round(logreg.score(x_test, y_test) * 100, 2)\n",
    "acc_log\n",
    "\n"
   ]
  },
  {
   "cell_type": "code",
   "execution_count": 23,
   "metadata": {},
   "outputs": [
    {
     "name": "stdout",
     "output_type": "stream",
     "text": [
      "79.19\n",
      "Time:  0.0036352805598848983\n"
     ]
    }
   ],
   "source": [
    "start = timeit.default_timer()\n",
    "\n",
    "gaussian = GaussianNB()\n",
    "gaussian.fit(X_train, Y_train)\n",
    "Y_pred3 = gaussian.predict(x_test)\n",
    "acc_gaussian = round(gaussian.score(x_test, y_test) * 100, 2)\n",
    "print(acc_gaussian)\n",
    "\n",
    "stop = timeit.default_timer()\n",
    "\n",
    "print('Time: ', stop - start) "
   ]
  },
  {
   "cell_type": "code",
   "execution_count": 24,
   "metadata": {},
   "outputs": [
    {
     "name": "stdout",
     "output_type": "stream",
     "text": [
      "76.02\n",
      "Time:  0.03748593333910427\n"
     ]
    }
   ],
   "source": [
    "start = timeit.default_timer()\n",
    "\n",
    "linear_svc = LinearSVC()\n",
    "linear_svc.fit(X_train, Y_train)\n",
    "Y_pred5 = linear_svc.predict(x_test)\n",
    "acc_linear_svc = round(linear_svc.score(x_test, y_test) * 100, 2)\n",
    "print(acc_linear_svc)\n",
    "\n",
    "stop = timeit.default_timer()\n",
    "\n",
    "print('Time: ', stop - start) "
   ]
  },
  {
   "cell_type": "code",
   "execution_count": 25,
   "metadata": {},
   "outputs": [
    {
     "name": "stdout",
     "output_type": "stream",
     "text": [
      "73.76\n",
      "Time:  0.004463998168616146\n"
     ]
    }
   ],
   "source": [
    "start = timeit.default_timer()\n",
    "\n",
    "decision_tree = DecisionTreeClassifier()\n",
    "decision_tree.fit(X_train, Y_train)\n",
    "Y_pred7 = decision_tree.predict(x_test)\n",
    "acc_decision_tree = round(decision_tree.score(x_test, y_test) * 100, 2)\n",
    "print(acc_decision_tree)\n",
    "\n",
    "\n",
    "stop = timeit.default_timer()\n",
    "\n",
    "print('Time: ', stop - start) "
   ]
  },
  {
   "cell_type": "code",
   "execution_count": 26,
   "metadata": {},
   "outputs": [
    {
     "name": "stdout",
     "output_type": "stream",
     "text": [
      "60.63\n"
     ]
    }
   ],
   "source": [
    "knn = KNeighborsClassifier(algorithm='auto', leaf_size=26, metric='minkowski', \n",
    "                           metric_params=None, n_jobs=1, n_neighbors=8, p=2, \n",
    "                           weights='uniform')\n",
    "knn.fit(X_train, Y_train)\n",
    "knn_predictions = knn.predict(x_test)\n",
    "acc_knn = round(knn.score(x_test, y_test) * 100, 2)\n",
    "print(acc_knn)"
   ]
  },
  {
   "cell_type": "code",
   "execution_count": 27,
   "metadata": {},
   "outputs": [],
   "source": [
    "random_forest = RandomForestClassifier(n_estimators=100)\n",
    "random_forest.fit(X_train, Y_train)\n",
    "random_forest_predictions = random_forest.predict(x_test)\n",
    "acc_random_forest = round(random_forest.score(x_test, y_test) * 100, 2)\n"
   ]
  },
  {
   "cell_type": "code",
   "execution_count": 28,
   "metadata": {},
   "outputs": [
    {
     "data": {
      "text/plain": [
       "Text(0,0.5,'Accuracy [%]')"
      ]
     },
     "execution_count": 28,
     "metadata": {},
     "output_type": "execute_result"
    },
    {
     "data": {
      "image/png": "[encoded data removed]",
      "text/plain": [
       "<matplotlib.figure.Figure at 0x1733e1cda20>"
      ]
     },
     "metadata": {},
     "output_type": "display_data"
    }
   ],
   "source": [
    "objects = ('Logistic Regression', 'Gaussian', 'linear SVC', 'Decision Tree', 'KNN', 'Random Forest')\n",
    "x_pos = np.arange(len(objects))\n",
    "Model_Results = [acc_log, acc_gaussian, acc_linear_svc, acc_decision_tree, acc_knn, acc_random_forest]\n",
    "    \n",
    "sns.barplot(x_pos, Model_Results,color='b')\n",
    "plt.xticks(x_pos, objects, rotation='vertical')\n",
    "plt.ylabel('Accuracy [%]')"
   ]
  },
  {
   "cell_type": "code",
   "execution_count": 29,
   "metadata": {},
   "outputs": [
    {
     "data": {
      "text/plain": [
       "Text(0.5,0,'Mean Accuracy')"
      ]
     },
     "execution_count": 29,
     "metadata": {},
     "output_type": "execute_result"
    },
    {
     "data": {
      "image/png": "[encoded data removed]",
      "text/plain": [
       "<matplotlib.figure.Figure at 0x1733d947128>"
      ]
     },
     "metadata": {},
     "output_type": "display_data"
    }
   ],
   "source": [
    "# Cross validate model with Kfold stratified cross validation\n",
    "from sklearn.model_selection import StratifiedKFold\n",
    "kfold = StratifiedKFold(n_splits=15)\n",
    "# Modeling step Test differents algorithms \n",
    "random_state = 2\n",
    "\n",
    "classifiers = []\n",
    "classifiers.append(LogisticRegression(random_state = random_state))\n",
    "classifiers.append(KNeighborsClassifier())\n",
    "classifiers.append(GaussianNB())\n",
    "classifiers.append(LinearSVC(random_state=random_state))\n",
    "classifiers.append(DecisionTreeClassifier(random_state = random_state))\n",
    "classifiers.append(RandomForestClassifier(random_state = random_state))\n",
    "\n",
    "cv_results = []\n",
    "for classifier in classifiers :\n",
    "    cv_results.append(cross_val_score(classifier, X_train, y = Y_train, scoring = \"accuracy\", cv = kfold, n_jobs=4))\n",
    "\n",
    "cv_means = []\n",
    "cv_std = []\n",
    "for cv_result in cv_results:\n",
    "    cv_means.append(cv_result.mean())\n",
    "    cv_std.append(cv_result.std())\n",
    "\n",
    "cv_res = pd.DataFrame({\"CrossValMeans\":cv_means,\"CrossValerrors\": cv_std,\"Algorithm\":['Logistic Regression', 'Gaussian', 'linear SVC', 'Decision Tree', 'KNN', 'Random Forest']})\n",
    "\n",
    "g = sns.barplot(\"CrossValMeans\",\"Algorithm\",data = cv_res, color='b')\n",
    "g.set_xlabel(\"Mean Accuracy\")"
   ]
  },
  {
   "cell_type": "code",
   "execution_count": 32,
   "metadata": {},
   "outputs": [
    {
     "ename": "ModuleNotFoundError",
     "evalue": "No module named 'keras'",
     "output_type": "error",
     "traceback": [
      "\u001b[1;31m---------------------------------------------------------------------------\u001b[0m",
      "\u001b[1;31mModuleNotFoundError\u001b[0m                       Traceback (most recent call last)",
      "\u001b[1;32m<ipython-input-32-f1245c0860b1>\u001b[0m in \u001b[0;36m<module>\u001b[1;34m()\u001b[0m\n\u001b[1;32m----> 1\u001b[1;33m \u001b[1;32mfrom\u001b[0m \u001b[0mkeras\u001b[0m\u001b[1;33m.\u001b[0m\u001b[0mmodels\u001b[0m \u001b[1;32mimport\u001b[0m \u001b[0mSequential\u001b[0m \u001b[1;31m# intitialize the ANN\u001b[0m\u001b[1;33m\u001b[0m\u001b[0m\n\u001b[0m\u001b[0;32m      2\u001b[0m \u001b[1;32mfrom\u001b[0m \u001b[0mkeras\u001b[0m\u001b[1;33m.\u001b[0m\u001b[0mlayers\u001b[0m \u001b[1;32mimport\u001b[0m \u001b[0mDense\u001b[0m      \u001b[1;31m# create layers\u001b[0m\u001b[1;33m\u001b[0m\u001b[0m\n\u001b[0;32m      3\u001b[0m \u001b[1;33m\u001b[0m\u001b[0m\n\u001b[0;32m      4\u001b[0m \u001b[0mmodel\u001b[0m \u001b[1;33m=\u001b[0m \u001b[0mSequential\u001b[0m\u001b[1;33m(\u001b[0m\u001b[1;33m)\u001b[0m\u001b[1;33m\u001b[0m\u001b[0m\n\u001b[0;32m      5\u001b[0m \u001b[1;33m\u001b[0m\u001b[0m\n",
      "\u001b[1;31mModuleNotFoundError\u001b[0m: No module named 'keras'"
     ]
    }
   ],
   "source": [
    "from keras.models import Sequential # intitialize the ANN\n",
    "from keras.layers import Dense      # create layers\n",
    "\n",
    "model = Sequential()\n",
    "\n",
    "# layers\n",
    "model.add(Dense(units = 9, kernel_initializer = 'uniform', activation = 'relu', input_dim = 17))\n",
    "model.add(Dense(units = 9, kernel_initializer = 'uniform', activation = 'relu'))\n",
    "model.add(Dense(units = 5, kernel_initializer = 'uniform', activation = 'relu'))\n",
    "model.add(Dense(units = 1, kernel_initializer = 'uniform', activation = 'sigmoid'))\n",
    "\n",
    "# Compiling the ANN\n",
    "model.compile(optimizer = 'adam', loss = 'binary_crossentropy', metrics = ['accuracy'])\n",
    "\n",
    "# Train the ANN\n",
    "model.fit(X_train, y_train, batch_size = 32, epochs = 200)\n",
    "\n",
    "y_pred = model.predict(X_test)\n",
    "y_final = (y_pred > 0.5).astype(int).reshape(X_test.shape[0])"
   ]
  },
  {
   "cell_type": "code",
   "execution_count": null,
   "metadata": {},
   "outputs": [],
   "source": []
  }
 ],
 "metadata": {
  "kernelspec": {
   "display_name": "Python 3",
   "language": "python",
   "name": "python3"
  },
  "language_info": {
   "codemirror_mode": {
    "name": "ipython",
    "version": 3
   },
   "file_extension": ".py",
   "mimetype": "text/x-python",
   "name": "python",
   "nbconvert_exporter": "python",
   "pygments_lexer": "ipython3",
   "version": "3.6.4"
  }
 },
 "nbformat": 4,
 "nbformat_minor": 2
}
