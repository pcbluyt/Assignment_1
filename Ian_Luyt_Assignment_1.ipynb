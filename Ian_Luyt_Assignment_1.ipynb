{
 "cells": [
  {
   "cell_type": "markdown",
   "metadata": {},
   "source": [
    "# DATA ASSIGNMENT"
   ]
  },
  {
   "cell_type": "markdown",
   "metadata": {},
   "source": [
    "This assignment was done to explore various methods of modelling a given set of data in order to predict one target variable from a possible set of nine features.  The document was split into the following sections:\n",
    "1.  Importing libraris and overview of data\n"
   ]
  },
  {
   "cell_type": "markdown",
   "metadata": {},
   "source": [
    "## 1.  Importing libraries and overview of data"
   ]
  },
  {
   "cell_type": "markdown",
   "metadata": {},
   "source": [
    "### 1.1. Importing libraries"
   ]
  },
  {
   "cell_type": "code",
   "execution_count": 252,
   "metadata": {},
   "outputs": [],
   "source": [
    "####################\n",
    "## Data handeling ##\n",
    "####################\n",
    "import pandas as pd \n",
    "from collections import Counter\n",
    "\n",
    "#########################\n",
    "## General Mathematics ##\n",
    "#########################\n",
    "import numpy as np \n",
    "from statistics import mode,median,mean\n",
    "\n",
    "###################\n",
    "## Visualisation ##\n",
    "###################\n",
    "import seaborn as sns\n",
    "from matplotlib import pyplot as plt\n",
    "from matplotlib import style\n",
    "\n",
    "##################\n",
    "## ML Libraries ##\n",
    "##################\n",
    "\n",
    "#Gradient Boost\n",
    "import xgboost as xgb\n",
    "\n",
    "#General ML Libraries\n",
    "import sklearn      \n",
    "from sklearn.model_selection import train_test_split\n",
    "from sklearn.linear_model import LinearRegression\n",
    "from sklearn.linear_model import LogisticRegression\n",
    "from sklearn.svm import SVC, LinearSVC\n",
    "from sklearn.ensemble import (RandomForestClassifier, AdaBoostClassifier, \n",
    "                              GradientBoostingClassifier, ExtraTreesClassifier, VotingClassifier)\n",
    "from sklearn.neighbors import KNeighborsClassifier\n",
    "from sklearn.naive_bayes import GaussianNB\n",
    "from sklearn.linear_model import Perceptron\n",
    "from sklearn.linear_model import SGDClassifier\n",
    "from sklearn.tree import DecisionTreeClassifier\n",
    "from sklearn.model_selection import GridSearchCV, cross_val_score, StratifiedKFold, learning_curve\n",
    "from sklearn.preprocessing import StandardScaler\n",
    "from sklearn.model_selection import train_test_split\n",
    "from sklearn.metrics import accuracy_score,classification_report, precision_recall_curve, confusion_matrix"
   ]
  },
  {
   "cell_type": "markdown",
   "metadata": {},
   "source": [
    "### 1.2. Importing data"
   ]
  },
  {
   "cell_type": "code",
   "execution_count": 233,
   "metadata": {},
   "outputs": [
    {
     "name": "stdout",
     "output_type": "stream",
     "text": [
      "The total number of rows in training set is:  916 for a training size of  30.0 %\n"
     ]
    },
    {
     "data": {
      "text/html": [
       "<div>\n",
       "<style scoped>\n",
       "    .dataframe tbody tr th:only-of-type {\n",
       "        vertical-align: middle;\n",
       "    }\n",
       "\n",
       "    .dataframe tbody tr th {\n",
       "        vertical-align: top;\n",
       "    }\n",
       "\n",
       "    .dataframe thead th {\n",
       "        text-align: right;\n",
       "    }\n",
       "</style>\n",
       "<table border=\"1\" class=\"dataframe\">\n",
       "  <thead>\n",
       "    <tr style=\"text-align: right;\">\n",
       "      <th></th>\n",
       "      <th>target_var</th>\n",
       "      <th>feature_1</th>\n",
       "      <th>feature_2</th>\n",
       "      <th>feature_3</th>\n",
       "      <th>feature_4</th>\n",
       "      <th>feature_5</th>\n",
       "      <th>feature_6</th>\n",
       "      <th>feature_7</th>\n",
       "      <th>feature_8</th>\n",
       "      <th>feature_9</th>\n",
       "    </tr>\n",
       "  </thead>\n",
       "  <tbody>\n",
       "    <tr>\n",
       "      <th>393</th>\n",
       "      <td>0</td>\n",
       "      <td>31.5000</td>\n",
       "      <td>0</td>\n",
       "      <td>0</td>\n",
       "      <td>NaN</td>\n",
       "      <td>pink</td>\n",
       "      <td>25.0</td>\n",
       "      <td>2</td>\n",
       "      <td>sigma</td>\n",
       "      <td>103.526067</td>\n",
       "    </tr>\n",
       "    <tr>\n",
       "      <th>854</th>\n",
       "      <td>0</td>\n",
       "      <td>6.8583</td>\n",
       "      <td>0</td>\n",
       "      <td>0</td>\n",
       "      <td>NaN</td>\n",
       "      <td>pink</td>\n",
       "      <td>NaN</td>\n",
       "      <td>3</td>\n",
       "      <td>qoph</td>\n",
       "      <td>175.218024</td>\n",
       "    </tr>\n",
       "    <tr>\n",
       "      <th>256</th>\n",
       "      <td>1</td>\n",
       "      <td>26.0000</td>\n",
       "      <td>0</td>\n",
       "      <td>0</td>\n",
       "      <td>NaN</td>\n",
       "      <td>pink</td>\n",
       "      <td>NaN</td>\n",
       "      <td>1</td>\n",
       "      <td>sigma</td>\n",
       "      <td>101.994948</td>\n",
       "    </tr>\n",
       "    <tr>\n",
       "      <th>1115</th>\n",
       "      <td>0</td>\n",
       "      <td>7.7750</td>\n",
       "      <td>0</td>\n",
       "      <td>0</td>\n",
       "      <td>NaN</td>\n",
       "      <td>pink</td>\n",
       "      <td>NaN</td>\n",
       "      <td>3</td>\n",
       "      <td>sigma</td>\n",
       "      <td>153.718187</td>\n",
       "    </tr>\n",
       "    <tr>\n",
       "      <th>1035</th>\n",
       "      <td>1</td>\n",
       "      <td>15.2458</td>\n",
       "      <td>1</td>\n",
       "      <td>1</td>\n",
       "      <td>NaN</td>\n",
       "      <td>pink</td>\n",
       "      <td>NaN</td>\n",
       "      <td>3</td>\n",
       "      <td>gamma</td>\n",
       "      <td>45.773248</td>\n",
       "    </tr>\n",
       "    <tr>\n",
       "      <th>448</th>\n",
       "      <td>0</td>\n",
       "      <td>13.0000</td>\n",
       "      <td>0</td>\n",
       "      <td>0</td>\n",
       "      <td>NaN</td>\n",
       "      <td>pink</td>\n",
       "      <td>36.0</td>\n",
       "      <td>2</td>\n",
       "      <td>sigma</td>\n",
       "      <td>80.284282</td>\n",
       "    </tr>\n",
       "    <tr>\n",
       "      <th>120</th>\n",
       "      <td>1</td>\n",
       "      <td>27.7208</td>\n",
       "      <td>0</td>\n",
       "      <td>1</td>\n",
       "      <td>descrates-51</td>\n",
       "      <td>pink</td>\n",
       "      <td>43.0</td>\n",
       "      <td>1</td>\n",
       "      <td>gamma</td>\n",
       "      <td>65.719249</td>\n",
       "    </tr>\n",
       "    <tr>\n",
       "      <th>1098</th>\n",
       "      <td>0</td>\n",
       "      <td>21.0750</td>\n",
       "      <td>1</td>\n",
       "      <td>3</td>\n",
       "      <td>NaN</td>\n",
       "      <td>blue</td>\n",
       "      <td>3.0</td>\n",
       "      <td>3</td>\n",
       "      <td>sigma</td>\n",
       "      <td>106.525598</td>\n",
       "    </tr>\n",
       "    <tr>\n",
       "      <th>1179</th>\n",
       "      <td>0</td>\n",
       "      <td>69.5500</td>\n",
       "      <td>9</td>\n",
       "      <td>1</td>\n",
       "      <td>NaN</td>\n",
       "      <td>pink</td>\n",
       "      <td>NaN</td>\n",
       "      <td>3</td>\n",
       "      <td>sigma</td>\n",
       "      <td>47.260158</td>\n",
       "    </tr>\n",
       "    <tr>\n",
       "      <th>869</th>\n",
       "      <td>0</td>\n",
       "      <td>22.5250</td>\n",
       "      <td>0</td>\n",
       "      <td>0</td>\n",
       "      <td>NaN</td>\n",
       "      <td>pink</td>\n",
       "      <td>28.0</td>\n",
       "      <td>3</td>\n",
       "      <td>sigma</td>\n",
       "      <td>101.196341</td>\n",
       "    </tr>\n",
       "  </tbody>\n",
       "</table>\n",
       "</div>"
      ],
      "text/plain": [
       "      target_var  feature_1  feature_2  feature_3     feature_4 feature_5  \\\n",
       "393            0    31.5000          0          0           NaN      pink   \n",
       "854            0     6.8583          0          0           NaN      pink   \n",
       "256            1    26.0000          0          0           NaN      pink   \n",
       "1115           0     7.7750          0          0           NaN      pink   \n",
       "1035           1    15.2458          1          1           NaN      pink   \n",
       "448            0    13.0000          0          0           NaN      pink   \n",
       "120            1    27.7208          0          1  descrates-51      pink   \n",
       "1098           0    21.0750          1          3           NaN      blue   \n",
       "1179           0    69.5500          9          1           NaN      pink   \n",
       "869            0    22.5250          0          0           NaN      pink   \n",
       "\n",
       "      feature_6  feature_7 feature_8   feature_9  \n",
       "393        25.0          2     sigma  103.526067  \n",
       "854         NaN          3      qoph  175.218024  \n",
       "256         NaN          1     sigma  101.994948  \n",
       "1115        NaN          3     sigma  153.718187  \n",
       "1035        NaN          3     gamma   45.773248  \n",
       "448        36.0          2     sigma   80.284282  \n",
       "120        43.0          1     gamma   65.719249  \n",
       "1098        3.0          3     sigma  106.525598  \n",
       "1179        NaN          3     sigma   47.260158  \n",
       "869        28.0          3     sigma  101.196341  "
      ]
     },
     "execution_count": 233,
     "metadata": {},
     "output_type": "execute_result"
    }
   ],
   "source": [
    "##################################################\n",
    "## Import dataset and split into train and test ##\n",
    "##################################################\n",
    "\n",
    "df = pd.read_csv('C:/Users/Abil083.D_ABSA/Desktop/Ian_Assignment/Blu.csv')\n",
    "test_percentage = 0.3\n",
    "train_data, test_data = train_test_split(df, test_size=test_percentage)\n",
    "print(\"The total number of rows in training set is: \",len(train), \"for a training size of \",test_percentage*100,\"%\") #916\n",
    "train_data.head(10)"
   ]
  },
  {
   "cell_type": "markdown",
   "metadata": {},
   "source": [
    "### 1.3. Types of data"
   ]
  },
  {
   "cell_type": "code",
   "execution_count": 234,
   "metadata": {},
   "outputs": [
    {
     "data": {
      "text/html": [
       "<div>\n",
       "<style scoped>\n",
       "    .dataframe tbody tr th:only-of-type {\n",
       "        vertical-align: middle;\n",
       "    }\n",
       "\n",
       "    .dataframe tbody tr th {\n",
       "        vertical-align: top;\n",
       "    }\n",
       "\n",
       "    .dataframe thead th {\n",
       "        text-align: right;\n",
       "    }\n",
       "</style>\n",
       "<table border=\"1\" class=\"dataframe\">\n",
       "  <thead>\n",
       "    <tr style=\"text-align: right;\">\n",
       "      <th></th>\n",
       "      <th>target_var</th>\n",
       "      <th>feature_1</th>\n",
       "      <th>feature_2</th>\n",
       "      <th>feature_3</th>\n",
       "      <th>feature_6</th>\n",
       "      <th>feature_7</th>\n",
       "      <th>feature_9</th>\n",
       "    </tr>\n",
       "  </thead>\n",
       "  <tbody>\n",
       "    <tr>\n",
       "      <th>count</th>\n",
       "      <td>916.000000</td>\n",
       "      <td>915.000000</td>\n",
       "      <td>916.000000</td>\n",
       "      <td>916.000000</td>\n",
       "      <td>723.000000</td>\n",
       "      <td>916.000000</td>\n",
       "      <td>916.000000</td>\n",
       "    </tr>\n",
       "    <tr>\n",
       "      <th>mean</th>\n",
       "      <td>0.390830</td>\n",
       "      <td>33.346329</td>\n",
       "      <td>0.405022</td>\n",
       "      <td>0.501092</td>\n",
       "      <td>30.034924</td>\n",
       "      <td>2.293668</td>\n",
       "      <td>102.735072</td>\n",
       "    </tr>\n",
       "    <tr>\n",
       "      <th>std</th>\n",
       "      <td>0.488203</td>\n",
       "      <td>50.531871</td>\n",
       "      <td>0.909415</td>\n",
       "      <td>1.032266</td>\n",
       "      <td>14.483256</td>\n",
       "      <td>0.835028</td>\n",
       "      <td>50.858402</td>\n",
       "    </tr>\n",
       "    <tr>\n",
       "      <th>min</th>\n",
       "      <td>0.000000</td>\n",
       "      <td>0.000000</td>\n",
       "      <td>0.000000</td>\n",
       "      <td>0.000000</td>\n",
       "      <td>0.166700</td>\n",
       "      <td>1.000000</td>\n",
       "      <td>-57.341836</td>\n",
       "    </tr>\n",
       "    <tr>\n",
       "      <th>25%</th>\n",
       "      <td>0.000000</td>\n",
       "      <td>7.925000</td>\n",
       "      <td>0.000000</td>\n",
       "      <td>0.000000</td>\n",
       "      <td>21.000000</td>\n",
       "      <td>2.000000</td>\n",
       "      <td>67.973922</td>\n",
       "    </tr>\n",
       "    <tr>\n",
       "      <th>50%</th>\n",
       "      <td>0.000000</td>\n",
       "      <td>14.454200</td>\n",
       "      <td>0.000000</td>\n",
       "      <td>0.000000</td>\n",
       "      <td>29.000000</td>\n",
       "      <td>3.000000</td>\n",
       "      <td>102.409190</td>\n",
       "    </tr>\n",
       "    <tr>\n",
       "      <th>75%</th>\n",
       "      <td>1.000000</td>\n",
       "      <td>31.443750</td>\n",
       "      <td>0.000000</td>\n",
       "      <td>1.000000</td>\n",
       "      <td>39.000000</td>\n",
       "      <td>3.000000</td>\n",
       "      <td>137.889425</td>\n",
       "    </tr>\n",
       "    <tr>\n",
       "      <th>max</th>\n",
       "      <td>1.000000</td>\n",
       "      <td>512.329200</td>\n",
       "      <td>9.000000</td>\n",
       "      <td>8.000000</td>\n",
       "      <td>76.000000</td>\n",
       "      <td>3.000000</td>\n",
       "      <td>247.341460</td>\n",
       "    </tr>\n",
       "  </tbody>\n",
       "</table>\n",
       "</div>"
      ],
      "text/plain": [
       "       target_var   feature_1   feature_2   feature_3   feature_6   feature_7  \\\n",
       "count  916.000000  915.000000  916.000000  916.000000  723.000000  916.000000   \n",
       "mean     0.390830   33.346329    0.405022    0.501092   30.034924    2.293668   \n",
       "std      0.488203   50.531871    0.909415    1.032266   14.483256    0.835028   \n",
       "min      0.000000    0.000000    0.000000    0.000000    0.166700    1.000000   \n",
       "25%      0.000000    7.925000    0.000000    0.000000   21.000000    2.000000   \n",
       "50%      0.000000   14.454200    0.000000    0.000000   29.000000    3.000000   \n",
       "75%      1.000000   31.443750    0.000000    1.000000   39.000000    3.000000   \n",
       "max      1.000000  512.329200    9.000000    8.000000   76.000000    3.000000   \n",
       "\n",
       "        feature_9  \n",
       "count  916.000000  \n",
       "mean   102.735072  \n",
       "std     50.858402  \n",
       "min    -57.341836  \n",
       "25%     67.973922  \n",
       "50%    102.409190  \n",
       "75%    137.889425  \n",
       "max    247.341460  "
      ]
     },
     "execution_count": 234,
     "metadata": {},
     "output_type": "execute_result"
    }
   ],
   "source": [
    "train_data.describe()"
   ]
  },
  {
   "cell_type": "code",
   "execution_count": 235,
   "metadata": {},
   "outputs": [
    {
     "name": "stdout",
     "output_type": "stream",
     "text": [
      "<class 'pandas.core.frame.DataFrame'>\n",
      "Int64Index: 916 entries, 393 to 579\n",
      "Data columns (total 10 columns):\n",
      "target_var    916 non-null int64\n",
      "feature_1     915 non-null float64\n",
      "feature_2     916 non-null int64\n",
      "feature_3     916 non-null int64\n",
      "feature_4     205 non-null object\n",
      "feature_5     916 non-null object\n",
      "feature_6     723 non-null float64\n",
      "feature_7     916 non-null int64\n",
      "feature_8     914 non-null object\n",
      "feature_9     916 non-null float64\n",
      "dtypes: float64(3), int64(4), object(3)\n",
      "memory usage: 78.7+ KB\n"
     ]
    }
   ],
   "source": [
    "train_data.info()"
   ]
  },
  {
   "cell_type": "markdown",
   "metadata": {},
   "source": [
    "From the above information the following may be observed:\n",
    "    - Feature 1: Integer\n",
    "    - Feature 2: Float\n",
    "    - Feature 3: Integer\n",
    "    - Feature 4: Object\n",
    "    - Feature 5: Object\n",
    "    - Feature 6: Flat\n",
    "    - Feature 7: Integer\n",
    "    - Feature 8: Object \n",
    "    - Feature 9: Float"
   ]
  },
  {
   "cell_type": "markdown",
   "metadata": {},
   "source": [
    "### 1.4. Data overview"
   ]
  },
  {
   "cell_type": "markdown",
   "metadata": {},
   "source": [
    "There are a number of aspects to consider when viewing this particular dataset.  The first one is dealing with missing data."
   ]
  },
  {
   "cell_type": "code",
   "execution_count": 236,
   "metadata": {},
   "outputs": [
    {
     "name": "stdout",
     "output_type": "stream",
     "text": [
      "target_var     0.000000\n",
      "feature_1      0.076394\n",
      "feature_2      0.000000\n",
      "feature_3      0.000000\n",
      "feature_4     77.463713\n",
      "feature_5      0.000000\n",
      "feature_6     20.091673\n",
      "feature_7      0.000000\n",
      "feature_8      0.152788\n",
      "feature_9      0.000000\n",
      "dtype: float64\n"
     ]
    }
   ],
   "source": [
    "Number_of_Rows = len(df)\n",
    "Total_Missing_Values = (Number_of_Rows - df.apply(lambda x: x.count(), axis=0))/(Number_of_Rows)*100\n",
    "print(Total_Missing_Values)"
   ]
  },
  {
   "cell_type": "markdown",
   "metadata": {},
   "source": [
    "From the above data the following may be concluded: Five of the 9 features have no missing values, \n",
    "two features have less than 1% of their data missing, and 2 features have more than 20% of their\n",
    "values missing.  When dealing with the missing data, five different approaches will be considered,\n",
    "as suggested by Kishan Maladkar in an \"Analytics India Magaizine\" article from February 2018,\n",
    "namely: deleting the entire row which has missing information; replace the missing data with the\n",
    "mean/mode/median; assigning a unique category; predicting the missing values; or using algorithms\n",
    "which support the missing values.  The full overview and application of these methods will be given\n",
    "in the next section."
   ]
  },
  {
   "cell_type": "code",
   "execution_count": 237,
   "metadata": {},
   "outputs": [
    {
     "data": {
      "text/plain": [
       "{0: 270, 1: 798, 2: 241}"
      ]
     },
     "execution_count": 237,
     "metadata": {},
     "output_type": "execute_result"
    }
   ],
   "source": [
    "df_missing_col = 10-df.apply(lambda x: x.count(), axis=1)\n",
    "dict(Counter(df_missing_col))"
   ]
  },
  {
   "cell_type": "markdown",
   "metadata": {},
   "source": [
    "Another interesting aspect to note is that 270 rows (of the 1310 rows) have no data missing, whereas 798 rows have one value missing and 241 have two values missing.  No row has more than 2 values missing.  798 rows and 270 rows are significant in the context of the total sample, and caution will be applied when considering whether or not to simply ommit the data.    "
   ]
  },
  {
   "cell_type": "code",
   "execution_count": 238,
   "metadata": {},
   "outputs": [
    {
     "data": {
      "text/plain": [
       "<matplotlib.axes._subplots.AxesSubplot at 0x259707d3780>"
      ]
     },
     "execution_count": 238,
     "metadata": {},
     "output_type": "execute_result"
    },
    {
     "data": {
      "image/png": "[encoded data removed]",
      "text/plain": [
       "<matplotlib.figure.Figure at 0x2596ded65c0>"
      ]
     },
     "metadata": {},
     "output_type": "display_data"
    }
   ],
   "source": [
    "f,ax = plt.subplots(4,3,figsize=(15,15))\n",
    "sns.countplot('feature_2',hue = 'target_var',data=df,ax=ax[0,0],color = 'b')\n",
    "sns.countplot('feature_3',hue = 'target_var',data=df,ax=ax[0,1],color = 'b')\n",
    "sns.countplot('feature_5',hue = 'target_var',data=df,ax=ax[0,2],color = 'b')\n",
    "sns.countplot('feature_7',hue = 'target_var',data=df,ax=ax[1,0],color = 'b')\n",
    "sns.countplot('feature_8',hue = 'target_var',data=df,ax=ax[1,1],color = 'b')\n",
    "sns.boxplot(x='target_var',y='feature_1',data=df,ax=ax[1,2],color = 'b')\n",
    "sns.distplot(df['feature_1'].dropna(),ax=ax[2,0],color = 'b')\n",
    "sns.boxplot(x='target_var',y='feature_9',data=df,ax=ax[2,1],color = 'b')\n",
    "sns.distplot(df['feature_9'].dropna(),ax=ax[2,2],color = 'b')\n",
    "\n",
    "sns.boxplot(x='target_var',y='feature_6',data=df,ax=ax[3,0],color = 'b')\n",
    "sns.distplot(df['feature_6'].dropna(),ax=ax[3,1],color = 'b')\n",
    "sns.countplot('target_var',data=df,ax=ax[3,2],color='b')"
   ]
  },
  {
   "cell_type": "code",
   "execution_count": 239,
   "metadata": {},
   "outputs": [
    {
     "data": {
      "text/plain": [
       "<matplotlib.axes._subplots.AxesSubplot at 0x25971044da0>"
      ]
     },
     "execution_count": 239,
     "metadata": {},
     "output_type": "execute_result"
    },
    {
     "data": {
      "image/png": "[encoded data removed]",
      "text/plain": [
       "<matplotlib.figure.Figure at 0x2596df775f8>"
      ]
     },
     "metadata": {},
     "output_type": "display_data"
    }
   ],
   "source": [
    "# Compute the correlation matrix\n",
    "corr = df.corr()\n",
    "\n",
    "# Set up the matplotlib figure\n",
    "f, ax = plt.subplots(figsize=(11, 9))\n",
    "\n",
    "# Generate a custom diverging colormap\n",
    "cmap = sns.diverging_palette(240, 240, as_cmap=True)\n",
    "\n",
    "# Draw the heatmap with the mask and correct aspect ratio\n",
    "drop_elements = ['feature_4','feature_5','feature_8']\n",
    "\n",
    "df_ammend = df.drop(drop_elements, axis = 1)\n",
    "sns.heatmap(df_ammend.astype(float).corr(),linewidths=0.1,vmax=1.0, square=True, cmap=cmap,annot=True, linecolor='white')"
   ]
  },
  {
   "cell_type": "markdown",
   "metadata": {},
   "source": [
    "## 3. Data wrangeling"
   ]
  },
  {
   "cell_type": "markdown",
   "metadata": {},
   "source": [
    "### 3.1. 'Feature_1' missing data"
   ]
  },
  {
   "cell_type": "markdown",
   "metadata": {},
   "source": [
    "Method 1: Replace mssing variable with mode/median/mean"
   ]
  },
  {
   "cell_type": "code",
   "execution_count": 245,
   "metadata": {},
   "outputs": [
    {
     "name": "stdout",
     "output_type": "stream",
     "text": [
      "Mode:  8.05   Mean:  33.29547928134572   Median:  16.1  \n",
      "[[1225]]\n"
     ]
    }
   ],
   "source": [
    "df_Mode = mode(df.feature_1)\n",
    "df_Mean =df.feature_1[~np.isnan(df.feature_1)].mean()\n",
    "df_Median = median(df.feature_1)\n",
    "print(\"Mode: \",df_Mode,\" \",\"Mean: \",df_Mean,\" \",\"Median: \",df_Median,\" \")\n",
    "\n",
    "df_Mean_Change = df['feature_1'].replace(np.NaN, df['feature_1'].mean())\n",
    "#print(df_Mean_Change)\n",
    "\n",
    "df = pd.read_csv('C:/Users/Abil083.D_ABSA/Desktop/Ian_Assignment/Blu.csv')\n",
    "df_Median_Change = df['feature_1'].replace(np.NaN, df_Median)\n",
    "#print(df_Median_Change)\n",
    "\n",
    "df = pd.read_csv('C:/Users/Abil083.D_ABSA/Desktop/Ian_Assignment/Blu.csv')\n",
    "df_Mode_Change = df['feature_1'].replace(np.NaN, df_Mode)\n",
    "#print(df_Mode_Change)\n",
    "\n",
    "df = pd.read_csv('C:/Users/Abil083.D_ABSA/Desktop/Ian_Assignment/Blu.csv')"
   ]
  },
  {
   "cell_type": "markdown",
   "metadata": {},
   "source": [
    "Method 2: Delete the row with the missing value"
   ]
  },
  {
   "cell_type": "code",
   "execution_count": 249,
   "metadata": {},
   "outputs": [
    {
     "data": {
      "text/plain": [
       "(1308, 10)"
      ]
     },
     "execution_count": 249,
     "metadata": {},
     "output_type": "execute_result"
    }
   ],
   "source": [
    "NaN_Index = (np.argwhere(np.isnan(df['feature_1'])))\n",
    "df_Drop_Row = df.drop(df.index[NaN_Index][0])\n",
    "df_Drop_Row.shape"
   ]
  },
  {
   "cell_type": "markdown",
   "metadata": {},
   "source": [
    "Mehtod 3,4, and 5: Predict the values or assign categories"
   ]
  },
  {
   "cell_type": "markdown",
   "metadata": {},
   "source": [
    "In this particular case Method 3 will not be considered.  The reason for this is that we are dealing with integers, where either of the two aforementioned methods, or Method 4 should provide greater accuracy.  Due to the complexity of Method 5, it will be assumed that the prediction will provide little to a negligible amount of value.  Method 3 is explored below.  In this method linear regression will be used to predict the missing values."
   ]
  },
  {
   "cell_type": "code",
   "execution_count": null,
   "metadata": {
    "scrolled": true
   },
   "outputs": [],
   "source": []
  },
  {
   "cell_type": "code",
   "execution_count": null,
   "metadata": {},
   "outputs": [],
   "source": []
  }
 ],
 "metadata": {
  "kernelspec": {
   "display_name": "Python 3",
   "language": "python",
   "name": "python3"
  },
  "language_info": {
   "codemirror_mode": {
    "name": "ipython",
    "version": 3
   },
   "file_extension": ".py",
   "mimetype": "text/x-python",
   "name": "python",
   "nbconvert_exporter": "python",
   "pygments_lexer": "ipython3",
   "version": "3.6.4"
  }
 },
 "nbformat": 4,
 "nbformat_minor": 2
}
